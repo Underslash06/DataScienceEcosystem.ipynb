{
 "cells": [
  {
   "cell_type": "markdown",
   "id": "4001ef40-329b-4507-adb2-55acd41e52b8",
   "metadata": {},
   "source": [
    "# Data Science Tools and Ecosystem"
   ]
  },
  {
   "cell_type": "markdown",
   "id": "00299dfe-a1c2-4a87-a081-35135b80f832",
   "metadata": {},
   "source": [
    "In this notebook, Data Science Tools and Ecosystem are summarized.\n"
   ]
  },
  {
   "cell_type": "markdown",
   "id": "a3e97e86-384f-4ec2-8c1e-2f912e523e95",
   "metadata": {},
   "source": [
    "**Objectives:**\n",
    "- Some of the commonly used libraries used by Data Scientists\n",
    "- Evaluation of arithmetic expressions in Python\n",
    "- List popular languages for Data Science"
   ]
  },
  {
   "cell_type": "markdown",
   "id": "311f48b2-dd0d-4149-abbb-4493f509bf98",
   "metadata": {},
   "source": [
    "Some of the popular languages that Data Scientists use are:\n",
    "1. Python\n",
    "2. R Launguage\n",
    "3. Java"
   ]
  },
  {
   "cell_type": "markdown",
   "id": "ee15fdca-f53c-43a6-af37-5d4ccf547f64",
   "metadata": {},
   "source": [
    "Some of the commonly used libraries used by Data Scientists include:"
   ]
  },
  {
   "cell_type": "markdown",
   "id": "e51077d9-3164-42e2-95bf-eaff7c626848",
   "metadata": {},
   "source": [
    "1. Pandas\n",
    "2. NumPy\n",
    "3. Scala Libraries"
   ]
  },
  {
   "cell_type": "markdown",
   "id": "4c932761-0e89-45f0-bb48-9debf5accc5d",
   "metadata": {},
   "source": [
    "| Data Science Tools |\n",
    "| ------------------ |\n",
    "| Spark SQL |\n",
    "| Prometheus |\n",
    "| Apachi Superset |"
   ]
  },
  {
   "cell_type": "markdown",
   "id": "03b3428b-4ff6-4636-872d-dbbb9471a4f6",
   "metadata": {},
   "source": [
    "### Below are a few examples of evaluating arithmetic expressions in Python"
   ]
  },
  {
   "cell_type": "markdown",
   "id": "c297a581-bc18-4775-82ef-bddcb480bf9e",
   "metadata": {},
   "source": [
    "This a simple arithmetic expression to mutiply then add integers"
   ]
  },
  {
   "cell_type": "code",
   "execution_count": 1,
   "id": "99fe46d5-3800-4062-aed7-b0d5efa560b4",
   "metadata": {},
   "outputs": [
    {
     "data": {
      "text/plain": [
       "17.0"
      ]
     },
     "execution_count": 1,
     "metadata": {},
     "output_type": "execute_result"
    }
   ],
   "source": [
    "(3*4)+5."
   ]
  },
  {
   "cell_type": "markdown",
   "id": "933185b3-8f0e-4e22-b780-d5cdb375ac59",
   "metadata": {},
   "source": [
    "This will convert 200 minutes to hours by diving by 60"
   ]
  },
  {
   "cell_type": "code",
   "execution_count": 6,
   "id": "2ece6e5a-1683-48fa-912b-454daf07ffa2",
   "metadata": {},
   "outputs": [
    {
     "data": {
      "text/plain": [
       "3.3333333333333335"
      ]
     },
     "execution_count": 6,
     "metadata": {},
     "output_type": "execute_result"
    }
   ],
   "source": [
    "200/60 "
   ]
  },
  {
   "cell_type": "markdown",
   "id": "87b97093-42b2-45b0-98c0-ffb19189fd1b",
   "metadata": {},
   "source": [
    "## Author \n",
    "William Vinson"
   ]
  },
  {
   "cell_type": "code",
   "execution_count": null,
   "id": "805cea09-c357-48d2-a889-b796794c986e",
   "metadata": {},
   "outputs": [],
   "source": []
  }
 ],
 "metadata": {
  "kernelspec": {
   "display_name": "Python 3 (ipykernel)",
   "language": "python",
   "name": "python3"
  },
  "language_info": {
   "codemirror_mode": {
    "name": "ipython",
    "version": 3
   },
   "file_extension": ".py",
   "mimetype": "text/x-python",
   "name": "python",
   "nbconvert_exporter": "python",
   "pygments_lexer": "ipython3",
   "version": "3.11.7"
  }
 },
 "nbformat": 4,
 "nbformat_minor": 5
}
